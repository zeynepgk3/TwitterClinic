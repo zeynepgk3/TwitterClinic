{
 "cells": [
  {
   "cell_type": "code",
   "execution_count": 1,
   "id": "d5654193",
   "metadata": {},
   "outputs": [],
   "source": [
    "import pandas as pd\n",
    "pd.options.mode.chained_assignment = None  # default='warn'\n",
    "import re\n",
    "import spacy\n",
    "import en_core_web_sm\n",
    "\n",
    "from nltk.tokenize import word_tokenize, RegexpTokenizer\n",
    "from sklearn.feature_extraction.text import CountVectorizer\n",
    "\n",
    "from bs4 import BeautifulSoup\n",
    "from html import unescape\n",
    "\n",
    "reddit_suidiceWatch = pd.read_csv('reddit_depression_suicidewatch.csv') #depression and SuicideWatch. long texts (limit it somehow). row=20365\n"
   ]
  },
  {
   "cell_type": "code",
   "execution_count": 2,
   "id": "c0048fcc",
   "metadata": {},
   "outputs": [
    {
     "name": "stdout",
     "output_type": "stream",
     "text": [
      "depressive_reddit_suicide size:\n",
      "9992\n"
     ]
    },
    {
     "data": {
      "text/html": [
       "<div>\n",
       "<style scoped>\n",
       "    .dataframe tbody tr th:only-of-type {\n",
       "        vertical-align: middle;\n",
       "    }\n",
       "\n",
       "    .dataframe tbody tr th {\n",
       "        vertical-align: top;\n",
       "    }\n",
       "\n",
       "    .dataframe thead th {\n",
       "        text-align: right;\n",
       "    }\n",
       "</style>\n",
       "<table border=\"1\" class=\"dataframe\">\n",
       "  <thead>\n",
       "    <tr style=\"text-align: right;\">\n",
       "      <th></th>\n",
       "      <th>tweets</th>\n",
       "      <th>labels</th>\n",
       "    </tr>\n",
       "  </thead>\n",
       "  <tbody>\n",
       "    <tr>\n",
       "      <th>3</th>\n",
       "      <td>I am so exhausted of this. Just when I think I...</td>\n",
       "      <td>Suicidal</td>\n",
       "    </tr>\n",
       "    <tr>\n",
       "      <th>5</th>\n",
       "      <td>I am 20 year old with some good friends but I ...</td>\n",
       "      <td>Suicidal</td>\n",
       "    </tr>\n",
       "    <tr>\n",
       "      <th>8</th>\n",
       "      <td>it is looming around the corner again. It alwa...</td>\n",
       "      <td>Suicidal</td>\n",
       "    </tr>\n",
       "  </tbody>\n",
       "</table>\n",
       "</div>"
      ],
      "text/plain": [
       "                                              tweets    labels\n",
       "3  I am so exhausted of this. Just when I think I...  Suicidal\n",
       "5  I am 20 year old with some good friends but I ...  Suicidal\n",
       "8  it is looming around the corner again. It alwa...  Suicidal"
      ]
     },
     "execution_count": 2,
     "metadata": {},
     "output_type": "execute_result"
    }
   ],
   "source": [
    "suicidal_reddit = reddit_suidiceWatch[reddit_suidiceWatch['label'] == 'SuicideWatch']\n",
    "DF_SUICIDAL = suicidal_reddit\n",
    "print(\"depressive_reddit_suicide size:\")\n",
    "DF_SUICIDAL['label'] = \"Suicidal\"\n",
    "DF_SUICIDAL.rename(columns = {'text':'tweets','label':'labels'}, inplace = True)\n",
    "print(len(DF_SUICIDAL))\n",
    "DF_SUICIDAL.head(3)"
   ]
  },
  {
   "cell_type": "code",
   "execution_count": 17,
   "id": "4301407c",
   "metadata": {},
   "outputs": [
    {
     "data": {
      "text/plain": [
       "'it is looming around the corner again. It always comes back. Like a wave, like the moon. I can hear the silence, feel the breeze, see the cold light. Death. I try and try and try. I choose and i survive. Then it hits again and everything goes dark. Suicide. Singing to me peace, quiet, end of everything. Resisting is difficult, so very difficult. Just a bright white piece of string and it would be over. Peace, quiet, end. I live with death, it is always there. it is looming around the corner.'"
      ]
     },
     "execution_count": 17,
     "metadata": {},
     "output_type": "execute_result"
    }
   ],
   "source": [
    "suicidal_reddit['tweets'].tolist()[2]"
   ]
  },
  {
   "cell_type": "code",
   "execution_count": 51,
   "id": "60949406",
   "metadata": {},
   "outputs": [],
   "source": [
    "def divideRedditTextToTweetLength(paragraph):\n",
    "    lines = []\n",
    "    line = ''\n",
    "    if(len(line) + len(paragraph) + 1 < 240):\n",
    "        return [paragraph]\n",
    "    for sentence in (s.strip()+'.' for s in paragraph.split('.')[:-1]):\n",
    "        if len(line) + len(sentence) + 1 >= 240: #overfitting.\n",
    "            lines.append(line)\n",
    "            line = sentence\n",
    "        else:                                   \n",
    "            line += ' ' + sentence  \n",
    "    print(lines)\n",
    "    return lines"
   ]
  },
  {
   "cell_type": "code",
   "execution_count": 52,
   "id": "b26c40a5",
   "metadata": {},
   "outputs": [],
   "source": [
    "output=divideRedditTextToTweetLength(suicidal_reddit['tweets'].tolist()[3])\n"
   ]
  },
  {
   "cell_type": "code",
   "execution_count": 53,
   "id": "846c2028",
   "metadata": {},
   "outputs": [
    {
     "data": {
      "text/plain": [
       "['there is.....foodAnd other things I will be judged for and for having weird views because maybe I am delusional I want to go to jail. Life would be better there I am not joking. Maybe suicide would not even cross my mind in jail']"
      ]
     },
     "execution_count": 53,
     "metadata": {},
     "output_type": "execute_result"
    }
   ],
   "source": [
    "output"
   ]
  },
  {
   "cell_type": "code",
   "execution_count": 54,
   "id": "071d43bf",
   "metadata": {},
   "outputs": [
    {
     "data": {
      "text/plain": [
       "'there is.....foodAnd other things I will be judged for and for having weird views because maybe I am delusional I want to go to jail. Life would be better there I am not joking. Maybe suicide would not even cross my mind in jail'"
      ]
     },
     "execution_count": 54,
     "metadata": {},
     "output_type": "execute_result"
    }
   ],
   "source": [
    "suicidal_reddit['tweets'].tolist()[3]"
   ]
  },
  {
   "cell_type": "code",
   "execution_count": null,
   "id": "43c5916c",
   "metadata": {},
   "outputs": [],
   "source": []
  }
 ],
 "metadata": {
  "kernelspec": {
   "display_name": "Python 3 (ipykernel)",
   "language": "python",
   "name": "python3"
  },
  "language_info": {
   "codemirror_mode": {
    "name": "ipython",
    "version": 3
   },
   "file_extension": ".py",
   "mimetype": "text/x-python",
   "name": "python",
   "nbconvert_exporter": "python",
   "pygments_lexer": "ipython3",
   "version": "3.10.9"
  }
 },
 "nbformat": 4,
 "nbformat_minor": 5
}
